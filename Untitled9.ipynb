{
  "nbformat": 4,
  "nbformat_minor": 0,
  "metadata": {
    "colab": {
      "name": "Untitled9.ipynb",
      "provenance": [],
      "collapsed_sections": [],
      "authorship_tag": "ABX9TyPvtX6w2Tf27fVhJaR9g+Oe",
      "include_colab_link": true
    },
    "kernelspec": {
      "name": "python3",
      "display_name": "Python 3"
    },
    "language_info": {
      "name": "python"
    }
  },
  "cells": [
    {
      "cell_type": "markdown",
      "metadata": {
        "id": "view-in-github",
        "colab_type": "text"
      },
      "source": [
        "<a href=\"https://colab.research.google.com/github/Iana-Kasimova-TR/LsaModel/blob/master/Untitled9.ipynb\" target=\"_parent\"><img src=\"https://colab.research.google.com/assets/colab-badge.svg\" alt=\"Open In Colab\"/></a>"
      ]
    },
    {
      "cell_type": "code",
      "metadata": {
        "colab": {
          "base_uri": "https://localhost:8080/"
        },
        "id": "LB_yPw_pmbhn",
        "outputId": "0a346ed1-1204-4720-fd6a-7c0e17ad59c7"
      },
      "source": [
        "import nltk\n",
        "from sklearn.datasets import fetch_20newsgroups\n",
        "from nltk.tokenize import word_tokenize\n",
        "from pprint import pprint\n",
        "import string\n",
        "from nltk.corpus import stopwords\n",
        "import re\n",
        "from nltk.stem import WordNetLemmatizer\n",
        "nltk.download(\"stopwords\")\n",
        "nltk.download('wordnet')\n",
        "nltk.download('punkt')\n"
      ],
      "execution_count": null,
      "outputs": [
        {
          "output_type": "stream",
          "name": "stdout",
          "text": [
            "[nltk_data] Downloading package stopwords to /root/nltk_data...\n",
            "[nltk_data]   Unzipping corpora/stopwords.zip.\n",
            "[nltk_data] Downloading package wordnet to /root/nltk_data...\n",
            "[nltk_data]   Unzipping corpora/wordnet.zip.\n",
            "[nltk_data] Downloading package punkt to /root/nltk_data...\n",
            "[nltk_data]   Unzipping tokenizers/punkt.zip.\n"
          ]
        },
        {
          "output_type": "execute_result",
          "data": {
            "text/plain": [
              "True"
            ]
          },
          "metadata": {},
          "execution_count": 2
        }
      ]
    },
    {
      "cell_type": "code",
      "metadata": {
        "id": "piXddIEO4QnT"
      },
      "source": [
        "pip install more-itertools"
      ],
      "execution_count": null,
      "outputs": []
    },
    {
      "cell_type": "code",
      "metadata": {
        "id": "doKeAEzWtBQX"
      },
      "source": [
        "def clean_text(text: str\n",
        "               ) -> list:\n",
        "    pattern = re.compile(r'[^a-z]+')\n",
        "    text = text.lower()\n",
        "    text = pattern.sub(' ', text).strip()\n",
        "\n",
        "    word_list = word_tokenize(text)\n",
        "\n",
        "    stopwords_list = set(stopwords.words(\"english\"))\n",
        "\n",
        "    word_list = [word for word in word_list if word not in stopwords_list]\n",
        "    word_list = [word for word in word_list if len(word) > 2]\n",
        "    \n",
        "    lemma = WordNetLemmatizer()\n",
        "    word_list = [lemma.lemmatize(word) for word in word_list]\n",
        "    return word_list          \n",
        "    "
      ],
      "execution_count": null,
      "outputs": []
    },
    {
      "cell_type": "markdown",
      "metadata": {
        "id": "AKkPlo3BByuG"
      },
      "source": [
        "**LSA** **METHOD**"
      ]
    },
    {
      "cell_type": "code",
      "metadata": {
        "id": "EpYSTBM6megN"
      },
      "source": [
        "newsgroups_train = fetch_20newsgroups(subset='train')"
      ],
      "execution_count": null,
      "outputs": []
    },
    {
      "cell_type": "code",
      "metadata": {
        "id": "DwxyORxJoQkk"
      },
      "source": [
        "text_tokenize = [clean_text(text) for text in newsgroups_train.data]"
      ],
      "execution_count": null,
      "outputs": []
    },
    {
      "cell_type": "code",
      "metadata": {
        "id": "ptdXP13KNXnA"
      },
      "source": [
        "from scipy.sparse import csr_matrix\n",
        "\n",
        "docs = text_tokenize\n",
        "indptr = [0]\n",
        "indices = []\n",
        "data = []\n",
        "vocabulary = {}\n",
        "for d in docs:\n",
        "    for term in d:\n",
        "        index = vocabulary.setdefault(term, len(vocabulary))\n",
        "        indices.append(index)\n",
        "        data.append(1)\n",
        "    indptr.append(len(indices))    \n",
        "\n",
        "dtm_matrix = csr_matrix((data, indices, indptr), dtype=int)"
      ],
      "execution_count": null,
      "outputs": []
    },
    {
      "cell_type": "code",
      "metadata": {
        "id": "cfOYDDJklIJb"
      },
      "source": [
        "number_of_all_documents = len(text_tokenize)"
      ],
      "execution_count": null,
      "outputs": []
    },
    {
      "cell_type": "code",
      "metadata": {
        "colab": {
          "base_uri": "https://localhost:8080/"
        },
        "id": "0rnBGKPfWkYF",
        "outputId": "d19015e6-2fae-4b73-a862-d8d043095d32"
      },
      "source": [
        "dtm_matrix.shape"
      ],
      "execution_count": null,
      "outputs": [
        {
          "output_type": "execute_result",
          "data": {
            "text/plain": [
              "(11314, 82279)"
            ]
          },
          "metadata": {},
          "execution_count": 10
        }
      ]
    },
    {
      "cell_type": "code",
      "metadata": {
        "id": "cN80CTDlo0nk"
      },
      "source": [
        "row_indices, col_indices = dtm_matrix.nonzero()"
      ],
      "execution_count": null,
      "outputs": []
    },
    {
      "cell_type": "code",
      "metadata": {
        "id": "Zhc-AfR4IO_n"
      },
      "source": [
        "import collections\n",
        "import numpy as np\n",
        "from collections import Counter\n",
        "\n",
        "term_occurences = np.array(list(Counter(col_indices).values()))"
      ],
      "execution_count": null,
      "outputs": []
    },
    {
      "cell_type": "code",
      "metadata": {
        "id": "Z0lUufTVVotf"
      },
      "source": [
        "number_of_words_in_text = dtm_matrix.sum(axis=1)"
      ],
      "execution_count": null,
      "outputs": []
    },
    {
      "cell_type": "code",
      "metadata": {
        "id": "k-UFxO6n56jE"
      },
      "source": [
        "number_of_words_in_text_transpose = number_of_words_in_text.transpose()"
      ],
      "execution_count": null,
      "outputs": []
    },
    {
      "cell_type": "code",
      "metadata": {
        "id": "DrebkIQk66Ns"
      },
      "source": [
        "number_of_words_in_text_array = np.squeeze(np.asarray(number_of_words_in_text_transpose))"
      ],
      "execution_count": null,
      "outputs": []
    },
    {
      "cell_type": "code",
      "metadata": {
        "id": "wBVIhwc-YAbj"
      },
      "source": [
        "matrix_inverse_number_of_words = csr_matrix(((1.0/number_of_words_in_text_array)[row_indices], (row_indices, col_indices)), shape=(dtm_matrix.shape))"
      ],
      "execution_count": null,
      "outputs": []
    },
    {
      "cell_type": "code",
      "metadata": {
        "id": "YAo-AEiippke"
      },
      "source": [
        "tf_matrix = dtm_matrix.multiply(matrix_inverse_number_of_words)"
      ],
      "execution_count": null,
      "outputs": []
    },
    {
      "cell_type": "code",
      "metadata": {
        "id": "cYTM3XOrpTuV"
      },
      "source": [
        "idf = np.asarray([np.log(number_of_all_documents/item) for item in term_occurences])\n",
        "row_indices, col_indices = tf_matrix.nonzero()\n",
        "\n",
        "idf_matrix = csr_matrix(((np.asarray(idf))[col_indices], (row_indices, col_indices)), shape=(dtm_matrix.shape))"
      ],
      "execution_count": null,
      "outputs": []
    },
    {
      "cell_type": "code",
      "metadata": {
        "id": "THXv_1BKqDDz"
      },
      "source": [
        "tf_idf_dtm_matrix =  tf_matrix.multiply(idf_matrix)"
      ],
      "execution_count": null,
      "outputs": []
    },
    {
      "cell_type": "code",
      "metadata": {
        "id": "sDaqvQBTTCUX"
      },
      "source": [
        "from sklearn.decomposition import TruncatedSVD\n",
        "svd = TruncatedSVD(n_components=10, n_iter=7, random_state=42)"
      ],
      "execution_count": null,
      "outputs": []
    },
    {
      "cell_type": "code",
      "metadata": {
        "id": "6zY7vxXVTXjT"
      },
      "source": [
        "dtm_svd_matrix = svd.fit_transform(tf_idf_dtm_matrix)"
      ],
      "execution_count": null,
      "outputs": []
    },
    {
      "cell_type": "code",
      "metadata": {
        "colab": {
          "base_uri": "https://localhost:8080/"
        },
        "id": "-MPSc9nuWFZp",
        "outputId": "2ae738e7-aca8-49f8-f6a9-a1f84ce71dd3"
      },
      "source": [
        "#what does it mean?\n",
        "svd.explained_variance_ratio_.sum()"
      ],
      "execution_count": null,
      "outputs": [
        {
          "output_type": "execute_result",
          "data": {
            "text/plain": [
              "0.9319923729007376"
            ]
          },
          "metadata": {},
          "execution_count": 23
        }
      ]
    },
    {
      "cell_type": "code",
      "metadata": {
        "colab": {
          "base_uri": "https://localhost:8080/"
        },
        "id": "JDnu6kRLZOwl",
        "outputId": "763debad-3a8c-4d4f-946f-bcbccb43c0fc"
      },
      "source": [
        "dtm_svd_matrix.shape"
      ],
      "execution_count": null,
      "outputs": [
        {
          "output_type": "execute_result",
          "data": {
            "text/plain": [
              "(11314, 100)"
            ]
          },
          "metadata": {},
          "execution_count": 24
        }
      ]
    },
    {
      "cell_type": "code",
      "metadata": {
        "id": "hML_whwkgBG5"
      },
      "source": [
        "# normalize matrix\n",
        "row_sums = dtm_svd_matrix.sum(axis=1)\n",
        "\n",
        "norm_dtm_svd_matrix = dtm_svd_matrix/row_sums[:, np.newaxis]"
      ],
      "execution_count": null,
      "outputs": []
    },
    {
      "cell_type": "code",
      "metadata": {
        "colab": {
          "base_uri": "https://localhost:8080/"
        },
        "id": "yqri7tG7ccme",
        "outputId": "bb902e17-4541-40b4-f7a5-708f143ae5ef"
      },
      "source": [
        "norm_dtm_svd_matrix.shape"
      ],
      "execution_count": null,
      "outputs": [
        {
          "output_type": "execute_result",
          "data": {
            "text/plain": [
              "(11314, 100)"
            ]
          },
          "metadata": {},
          "execution_count": 26
        }
      ]
    },
    {
      "cell_type": "code",
      "metadata": {
        "id": "im2arDSQgip6"
      },
      "source": [
        "dtm_svd_matrix_transpose = dtm_svd_matrix.transpose()"
      ],
      "execution_count": null,
      "outputs": []
    },
    {
      "cell_type": "code",
      "metadata": {
        "id": "Cvvo5WFbgo7n"
      },
      "source": [
        "dot_norm_transpose = norm_dtm_svd_matrix.dot(dtm_svd_matrix_transpose)"
      ],
      "execution_count": null,
      "outputs": []
    },
    {
      "cell_type": "code",
      "metadata": {
        "colab": {
          "base_uri": "https://localhost:8080/"
        },
        "id": "w9nnbSpydmPu",
        "outputId": "56757a06-5198-44f3-b301-cef201703404"
      },
      "source": [
        "dot_norm_transpose.shape"
      ],
      "execution_count": null,
      "outputs": [
        {
          "output_type": "execute_result",
          "data": {
            "text/plain": [
              "(11314, 11314)"
            ]
          },
          "metadata": {},
          "execution_count": 30
        }
      ]
    },
    {
      "cell_type": "code",
      "metadata": {
        "id": "plltqaGehcRC"
      },
      "source": [
        "np.fill_diagonal(dot_norm_transpose, -1)"
      ],
      "execution_count": null,
      "outputs": []
    },
    {
      "cell_type": "code",
      "metadata": {
        "id": "NGnjJqnvVayJ"
      },
      "source": [
        "k = 10\n",
        "indexes_of_docs = np.argpartition(-dot_norm_transpose, axis=0, kth=k)"
      ],
      "execution_count": null,
      "outputs": []
    },
    {
      "cell_type": "code",
      "metadata": {
        "colab": {
          "base_uri": "https://localhost:8080/"
        },
        "id": "3fA6NW3WYcq4",
        "outputId": "d0d4870c-9330-4a99-8c96-93b31d8456c3"
      },
      "source": [
        "indexes_of_docs.shape"
      ],
      "execution_count": null,
      "outputs": [
        {
          "output_type": "execute_result",
          "data": {
            "text/plain": [
              "(11314, 11314)"
            ]
          },
          "metadata": {},
          "execution_count": 32
        }
      ]
    },
    {
      "cell_type": "code",
      "metadata": {
        "id": "0d5-GfSYt5Ag"
      },
      "source": [
        "indexes_of_most_similar_docs = indexes_of_docs[:indexes_of_docs.shape[0], :k]"
      ],
      "execution_count": null,
      "outputs": []
    },
    {
      "cell_type": "code",
      "metadata": {
        "id": "otvFjNPxhJ5x"
      },
      "source": [
        "\n",
        "def calculate_metrics(index_docs, targett, k):\n",
        "    compare_group = np.add(targett[index_docs].T, -targett) \n",
        "    return np.mean(np.count_nonzero(compare_group == 0, axis=0)/k)"
      ],
      "execution_count": null,
      "outputs": []
    },
    {
      "cell_type": "code",
      "metadata": {
        "colab": {
          "base_uri": "https://localhost:8080/"
        },
        "id": "6hogpXmuBIv9",
        "outputId": "0dae0ce1-4d92-430f-9880-66eb8493ad19"
      },
      "source": [
        "calculate_metrics(indexes_of_most_similar_docs, newsgroups_train.target, k)"
      ],
      "execution_count": null,
      "outputs": [
        {
          "output_type": "execute_result",
          "data": {
            "text/plain": [
              "0.5309881562665723"
            ]
          },
          "metadata": {},
          "execution_count": 57
        }
      ]
    },
    {
      "cell_type": "markdown",
      "metadata": {
        "id": "gOnv1FjqVCnw"
      },
      "source": [
        "**GENSIM**"
      ]
    },
    {
      "cell_type": "code",
      "metadata": {
        "id": "nBXQ0H0jVBki"
      },
      "source": [
        "pip install pyldavis"
      ],
      "execution_count": null,
      "outputs": []
    },
    {
      "cell_type": "code",
      "metadata": {
        "id": "zHcrL0glVxhK",
        "colab": {
          "base_uri": "https://localhost:8080/"
        },
        "outputId": "9ece6cc1-80cc-4cb2-b967-668b46566835"
      },
      "source": [
        "import gensim\n",
        "import gensim.corpora as corpora\n",
        "from gensim.corpora import Dictionary\n",
        "from gensim.models.ldamodel import LdaModel\n",
        "\n",
        "from pprint import pprint\n",
        "\n",
        "import pickle\n",
        "import re \n",
        "import pyLDAvis\n",
        "import pyLDAvis.gensim_models\n",
        "\n",
        "import matplotlib.pyplot as plt "
      ],
      "execution_count": null,
      "outputs": [
        {
          "output_type": "stream",
          "name": "stderr",
          "text": [
            "/usr/local/lib/python3.7/dist-packages/past/types/oldstr.py:5: DeprecationWarning: Using or importing the ABCs from 'collections' instead of from 'collections.abc' is deprecated since Python 3.3,and in 3.9 it will stop working\n",
            "  from collections import Iterable\n"
          ]
        }
      ]
    },
    {
      "cell_type": "code",
      "metadata": {
        "id": "0KdPQE3VXGu-"
      },
      "source": [
        "idToWord = Dictionary(text_tokenize)\n",
        "corpus = [idToWord.doc2bow(text) for text in text_tokenize]"
      ],
      "execution_count": null,
      "outputs": []
    },
    {
      "cell_type": "code",
      "metadata": {
        "id": "MI0oZuYUYD2n"
      },
      "source": [
        "lda_model = LdaModel(corpus=corpus, id2word=idToWord, num_topics=20)"
      ],
      "execution_count": null,
      "outputs": []
    },
    {
      "cell_type": "code",
      "metadata": {
        "id": "LTRu2x0nYey3"
      },
      "source": [
        "from gensim.similarities import MatrixSimilarity\n",
        "\n",
        "index = MatrixSimilarity(lda_model[corpus])\n",
        "\n",
        "lda_vec = lda_model[corpus]\n",
        "sims = index[lda_vec]"
      ],
      "execution_count": null,
      "outputs": []
    },
    {
      "cell_type": "code",
      "metadata": {
        "id": "gxOqFPY8cuvf"
      },
      "source": [
        "sim_docs = sims[:sims.shape[0], :k]"
      ],
      "execution_count": null,
      "outputs": []
    },
    {
      "cell_type": "code",
      "metadata": {
        "id": "TM7n8pJHS8zE"
      },
      "source": [
        "sorted_sim_docs = np.argpartition(-sims, axis=0, kth=k)"
      ],
      "execution_count": null,
      "outputs": []
    },
    {
      "cell_type": "code",
      "metadata": {
        "id": "uXMe99QOTUAM"
      },
      "source": [
        "sorted_sim_docs = sorted_sim_docs[:sorted_sim_docs.shape[0], :k]"
      ],
      "execution_count": null,
      "outputs": []
    },
    {
      "cell_type": "code",
      "metadata": {
        "id": "XrUm0CwyYpZ9",
        "colab": {
          "base_uri": "https://localhost:8080/"
        },
        "outputId": "22d3fff4-e6e9-4f65-ffff-6889c6824337"
      },
      "source": [
        "calculate_metrics(sorted_sim_docs, newsgroups_train.target, k)"
      ],
      "execution_count": null,
      "outputs": [
        {
          "output_type": "execute_result",
          "data": {
            "text/plain": [
              "0.4336220611631607"
            ]
          },
          "metadata": {},
          "execution_count": 47
        }
      ]
    }
  ]
}