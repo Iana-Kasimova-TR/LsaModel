{
  "nbformat": 4,
  "nbformat_minor": 0,
  "metadata": {
    "colab": {
      "name": "lsa.ipynb",
      "provenance": [],
      "collapsed_sections": [],
      "include_colab_link": true
    },
    "kernelspec": {
      "name": "python3",
      "display_name": "Python 3"
    }
  },
  "cells": [
    {
      "cell_type": "markdown",
      "metadata": {
        "id": "view-in-github",
        "colab_type": "text"
      },
      "source": [
        "<a href=\"https://colab.research.google.com/github/Iana-Kasimova-TR/LsaModel/blob/master/lsa.ipynb\" target=\"_parent\"><img src=\"https://colab.research.google.com/assets/colab-badge.svg\" alt=\"Open In Colab\"/></a>"
      ]
    },
    {
      "cell_type": "code",
      "metadata": {
        "id": "SrOBFayeNsk6"
      },
      "source": [
        "import nltk\n",
        "from sklearn.datasets import fetch_20newsgroups\n",
        "from nltk.tokenize import word_tokenize\n",
        "from pprint import pprint\n",
        "import string\n",
        "from nltk.corpus import stopwords\n",
        "import re\n",
        "from nltk.stem import WordNetLemmatizer\n",
        "nltk.download(\"stopwords\")\n",
        "nltk.download('wordnet')\n",
        "nltk.download('punkt')"
      ],
      "execution_count": null,
      "outputs": []
    },
    {
      "cell_type": "code",
      "metadata": {
        "id": "hXzGWJivmz60",
        "colab": {
          "base_uri": "https://localhost:8080/"
        },
        "outputId": "e1874582-751f-4426-b1df-e99f1ad40001"
      },
      "source": [
        "from google.colab import drive\n",
        "drive.mount('/content/gdrive')"
      ],
      "execution_count": null,
      "outputs": [
        {
          "output_type": "stream",
          "name": "stdout",
          "text": [
            "Drive already mounted at /content/gdrive; to attempt to forcibly remount, call drive.mount(\"/content/gdrive\", force_remount=True).\n"
          ]
        }
      ]
    },
    {
      "cell_type": "code",
      "metadata": {
        "id": "psH0aLrvoh78"
      },
      "source": [
        "import sys\n",
        "sys.path.append('/content/gdrive/My Drive')"
      ],
      "execution_count": null,
      "outputs": []
    },
    {
      "cell_type": "code",
      "metadata": {
        "id": "esSn2ElaNyZV"
      },
      "source": [
        "def clean_text(text: str\n",
        "               ) -> list:\n",
        "    pattern = re.compile(r'[^a-z]+')\n",
        "    text = text.lower()\n",
        "    text = pattern.sub(' ', text).strip()\n",
        "\n",
        "    word_list = word_tokenize(text)\n",
        "\n",
        "    stopwords_list = set(stopwords.words(\"english\"))\n",
        "\n",
        "    word_list = [word for word in word_list if word not in stopwords_list]\n",
        "    word_list = [word for word in word_list if len(word) > 2]\n",
        "    \n",
        "    lemma = WordNetLemmatizer()\n",
        "    word_list = [lemma.lemmatize(word) for word in word_list]\n",
        "    return word_list          \n",
        "    "
      ],
      "execution_count": null,
      "outputs": []
    },
    {
      "cell_type": "code",
      "metadata": {
        "id": "TCOETPY_N1Fx"
      },
      "source": [
        "from LsaModel import LsaModel\n",
        "\n",
        "\n",
        "newsgroups_train = fetch_20newsgroups(subset='train')\n",
        "text_tokenize = [clean_text(text) for text in newsgroups_train.data]"
      ],
      "execution_count": null,
      "outputs": []
    },
    {
      "cell_type": "code",
      "metadata": {
        "id": "YKg0syKZO6M6"
      },
      "source": [
        "model = LsaModel(text_tokenize)\n",
        "matrix = model.get_lsa_matrix()"
      ],
      "execution_count": null,
      "outputs": []
    },
    {
      "cell_type": "code",
      "metadata": {
        "id": "Wmms_dKmPCo2",
        "colab": {
          "base_uri": "https://localhost:8080/"
        },
        "outputId": "871a562b-aad4-4a5a-bb47-bdf785c63f6b"
      },
      "source": [
        "model.calc_map_metric(10, newsgroups_train.target)"
      ],
      "execution_count": null,
      "outputs": [
        {
          "output_type": "execute_result",
          "data": {
            "text/plain": [
              "0.5309881562665723"
            ]
          },
          "metadata": {},
          "execution_count": 8
        }
      ]
    },
    {
      "cell_type": "code",
      "metadata": {
        "id": "SGp78IxdPLBU",
        "colab": {
          "base_uri": "https://localhost:8080/"
        },
        "outputId": "7204ccc7-1b28-4af9-eba9-806a210a73ae"
      },
      "source": [
        "pip install pyldavis"
      ],
      "execution_count": null,
      "outputs": [
        {
          "output_type": "stream",
          "name": "stdout",
          "text": [
            "Requirement already satisfied: pyldavis in /usr/local/lib/python3.7/dist-packages (3.3.1)\n",
            "Requirement already satisfied: numpy>=1.20.0 in /usr/local/lib/python3.7/dist-packages (from pyldavis) (1.21.4)\n",
            "Requirement already satisfied: scipy in /usr/local/lib/python3.7/dist-packages (from pyldavis) (1.4.1)\n",
            "Requirement already satisfied: sklearn in /usr/local/lib/python3.7/dist-packages (from pyldavis) (0.0)\n",
            "Requirement already satisfied: pandas>=1.2.0 in /usr/local/lib/python3.7/dist-packages (from pyldavis) (1.3.4)\n",
            "Requirement already satisfied: numexpr in /usr/local/lib/python3.7/dist-packages (from pyldavis) (2.7.3)\n",
            "Requirement already satisfied: joblib in /usr/local/lib/python3.7/dist-packages (from pyldavis) (1.1.0)\n",
            "Requirement already satisfied: gensim in /usr/local/lib/python3.7/dist-packages (from pyldavis) (3.6.0)\n",
            "Requirement already satisfied: scikit-learn in /usr/local/lib/python3.7/dist-packages (from pyldavis) (1.0.1)\n",
            "Requirement already satisfied: setuptools in /usr/local/lib/python3.7/dist-packages (from pyldavis) (57.4.0)\n",
            "Requirement already satisfied: jinja2 in /usr/local/lib/python3.7/dist-packages (from pyldavis) (2.11.3)\n",
            "Requirement already satisfied: funcy in /usr/local/lib/python3.7/dist-packages (from pyldavis) (1.16)\n",
            "Requirement already satisfied: future in /usr/local/lib/python3.7/dist-packages (from pyldavis) (0.16.0)\n",
            "Requirement already satisfied: python-dateutil>=2.7.3 in /usr/local/lib/python3.7/dist-packages (from pandas>=1.2.0->pyldavis) (2.8.2)\n",
            "Requirement already satisfied: pytz>=2017.3 in /usr/local/lib/python3.7/dist-packages (from pandas>=1.2.0->pyldavis) (2018.9)\n",
            "Requirement already satisfied: six>=1.5 in /usr/local/lib/python3.7/dist-packages (from python-dateutil>=2.7.3->pandas>=1.2.0->pyldavis) (1.15.0)\n",
            "Requirement already satisfied: smart-open>=1.2.1 in /usr/local/lib/python3.7/dist-packages (from gensim->pyldavis) (5.2.1)\n",
            "Requirement already satisfied: MarkupSafe>=0.23 in /usr/local/lib/python3.7/dist-packages (from jinja2->pyldavis) (2.0.1)\n",
            "Requirement already satisfied: threadpoolctl>=2.0.0 in /usr/local/lib/python3.7/dist-packages (from scikit-learn->pyldavis) (3.0.0)\n"
          ]
        }
      ]
    },
    {
      "cell_type": "code",
      "metadata": {
        "id": "t116eiBXPNTV",
        "colab": {
          "base_uri": "https://localhost:8080/"
        },
        "outputId": "c58638b4-5c37-463e-c7ed-50abbd4c314e"
      },
      "source": [
        "import gensim\n",
        "import gensim.corpora as corpora\n",
        "from gensim.corpora import Dictionary\n",
        "from gensim.models.ldamodel import LdaModel\n",
        "\n",
        "from pprint import pprint\n",
        "\n",
        "import pickle\n",
        "import re \n",
        "import pyLDAvis\n",
        "import pyLDAvis.gensim_models\n",
        "import numpy as np\n",
        "\n",
        "import matplotlib.pyplot as plt "
      ],
      "execution_count": null,
      "outputs": [
        {
          "output_type": "stream",
          "name": "stderr",
          "text": [
            "/usr/local/lib/python3.7/dist-packages/past/types/oldstr.py:5: DeprecationWarning: Using or importing the ABCs from 'collections' instead of from 'collections.abc' is deprecated since Python 3.3,and in 3.9 it will stop working\n",
            "  from collections import Iterable\n"
          ]
        }
      ]
    },
    {
      "cell_type": "code",
      "metadata": {
        "id": "WRx84CiJPP32"
      },
      "source": [
        "idToWord = Dictionary(text_tokenize)\n",
        "corpus = [idToWord.doc2bow(text) for text in text_tokenize]\n",
        "lda_model = LdaModel(corpus=corpus, id2word=idToWord, num_topics=20)"
      ],
      "execution_count": null,
      "outputs": []
    },
    {
      "cell_type": "code",
      "metadata": {
        "id": "v41Ma67CPVJw"
      },
      "source": [
        "from gensim.similarities import MatrixSimilarity\n",
        "\n",
        "index = MatrixSimilarity(lda_model[corpus])\n",
        "\n",
        "lda_vec = lda_model[corpus]\n",
        "sims = index[lda_vec]"
      ],
      "execution_count": null,
      "outputs": []
    },
    {
      "cell_type": "code",
      "metadata": {
        "id": "uZdiM6eSPW7i"
      },
      "source": [
        "k = 10\n",
        "sim_docs = sims[:sims.shape[0], :k]"
      ],
      "execution_count": null,
      "outputs": []
    },
    {
      "cell_type": "code",
      "metadata": {
        "id": "8CaOw0h4PZAB"
      },
      "source": [
        "sorted_sim_docs = np.argpartition(-sims, axis=0, kth=k)"
      ],
      "execution_count": null,
      "outputs": []
    },
    {
      "cell_type": "code",
      "metadata": {
        "id": "KvY_RdqXPboK"
      },
      "source": [
        "sorted_sim_docs = sorted_sim_docs[:sorted_sim_docs.shape[0], :k]"
      ],
      "execution_count": null,
      "outputs": []
    },
    {
      "cell_type": "code",
      "metadata": {
        "id": "dgkQwyFAPfBe",
        "colab": {
          "base_uri": "https://localhost:8080/"
        },
        "outputId": "1e907a0f-8501-495a-e07b-1b1f7572e9f6"
      },
      "source": [
        "model.calc_metric_for_simularity_matrix(sorted_sim_docs, newsgroups_train.target, k)"
      ],
      "execution_count": null,
      "outputs": [
        {
          "output_type": "execute_result",
          "data": {
            "text/plain": [
              "0.5166961286901184"
            ]
          },
          "metadata": {},
          "execution_count": 15
        }
      ]
    }
  ]
}