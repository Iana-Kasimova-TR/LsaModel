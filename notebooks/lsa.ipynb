{
  "nbformat": 4,
  "nbformat_minor": 0,
  "metadata": {
    "colab": {
      "name": "lsa.ipynb",
      "provenance": [],
      "collapsed_sections": [],
      "include_colab_link": true
    },
    "kernelspec": {
      "name": "python3",
      "language": "python",
      "display_name": "Python 3 (ipykernel)"
    }
  },
  "cells": [
    {
      "cell_type": "markdown",
      "metadata": {
        "id": "view-in-github",
        "colab_type": "text"
      },
      "source": [
        "<a href=\"https://colab.research.google.com/github/Iana-Kasimova-TR/LsaModel/blob/master/notebooks/lsa.ipynb\" target=\"_parent\"><img src=\"https://colab.research.google.com/assets/colab-badge.svg\" alt=\"Open In Colab\"/></a>"
      ]
    },
    {
      "cell_type": "code",
      "metadata": {
        "id": "SrOBFayeNsk6"
      },
      "source": [
        "import sys\n",
        "sys.path.append('../src/module')\n",
        "from LsaModel import LsaModel\n",
        "import TextProcessor\n",
        "\n",
        "from sklearn.datasets import fetch_20newsgroups\n",
        "from gensim.corpora import Dictionary\n",
        "from gensim.models.ldamodel import LdaModel\n",
        "import numpy as np\n",
        "from gensim.similarities import MatrixSimilarity"
      ],
      "execution_count": null,
      "outputs": []
    },
    {
      "cell_type": "code",
      "metadata": {
        "pycharm": {
          "name": "#%%\n"
        },
        "id": "tzOKQuD2m2Yg"
      },
      "source": [
        "newsgroups_train = fetch_20newsgroups(subset='train')\n",
        "text_tokenize = [TextProcessor.clean_text(text) for text in newsgroups_train.data]"
      ],
      "execution_count": null,
      "outputs": []
    },
    {
      "cell_type": "markdown",
      "metadata": {
        "id": "VSwB-v6sm-Hu"
      },
      "source": [
        "LSA Manual"
      ]
    },
    {
      "cell_type": "code",
      "metadata": {
        "id": "YKg0syKZO6M6"
      },
      "source": [
        "model = LsaModel(text_tokenize)\n",
        "matrix = model.get_lsa_matrix()"
      ],
      "execution_count": null,
      "outputs": []
    },
    {
      "cell_type": "code",
      "metadata": {
        "id": "Wmms_dKmPCo2",
        "colab": {
          "base_uri": "https://localhost:8080/"
        },
        "outputId": "871a562b-aad4-4a5a-bb47-bdf785c63f6b"
      },
      "source": [
        "model.calc_map_metric(10, newsgroups_train.target)"
      ],
      "execution_count": null,
      "outputs": [
        {
          "output_type": "execute_result",
          "data": {
            "text/plain": [
              "0.5309881562665723"
            ]
          },
          "metadata": {},
          "execution_count": 8
        }
      ]
    },
    {
      "cell_type": "markdown",
      "metadata": {
        "id": "50YfmAh9nHrL"
      },
      "source": [
        "LDA model from gensim"
      ]
    },
    {
      "cell_type": "code",
      "metadata": {
        "id": "WRx84CiJPP32"
      },
      "source": [
        "idToWord = Dictionary(text_tokenize)\n",
        "corpus = [idToWord.doc2bow(text) for text in text_tokenize]\n",
        "lda_model = LdaModel(corpus=corpus, id2word=idToWord, num_topics=20)"
      ],
      "execution_count": null,
      "outputs": []
    },
    {
      "cell_type": "code",
      "metadata": {
        "id": "v41Ma67CPVJw"
      },
      "source": [
        "index = MatrixSimilarity(lda_model[corpus])\n",
        "\n",
        "lda_vec = lda_model[corpus]\n",
        "sims = index[lda_vec]"
      ],
      "execution_count": null,
      "outputs": []
    },
    {
      "cell_type": "code",
      "metadata": {
        "id": "uZdiM6eSPW7i"
      },
      "source": [
        "k = 10\n",
        "sim_docs = sims[:sims.shape[0], :k]"
      ],
      "execution_count": null,
      "outputs": []
    },
    {
      "cell_type": "code",
      "metadata": {
        "id": "8CaOw0h4PZAB"
      },
      "source": [
        "sorted_sim_docs = np.argpartition(-sims, axis=0, kth=k)"
      ],
      "execution_count": null,
      "outputs": []
    },
    {
      "cell_type": "code",
      "metadata": {
        "id": "KvY_RdqXPboK"
      },
      "source": [
        "sorted_sim_docs = sorted_sim_docs[:sorted_sim_docs.shape[0], :k]"
      ],
      "execution_count": null,
      "outputs": []
    },
    {
      "cell_type": "code",
      "metadata": {
        "id": "dgkQwyFAPfBe",
        "colab": {
          "base_uri": "https://localhost:8080/"
        },
        "outputId": "1e907a0f-8501-495a-e07b-1b1f7572e9f6"
      },
      "source": [
        "model.calc_metric_for_simularity_matrix(sorted_sim_docs, newsgroups_train.target, k)"
      ],
      "execution_count": null,
      "outputs": [
        {
          "output_type": "execute_result",
          "data": {
            "text/plain": [
              "0.5166961286901184"
            ]
          },
          "metadata": {},
          "execution_count": 15
        }
      ]
    }
  ]
}